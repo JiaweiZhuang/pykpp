{
 "cells": [
  {
   "cell_type": "markdown",
   "metadata": {},
   "source": [
    "# Simple Ozone Non-linearity Exercise\n",
    "\n",
    "author: Barron Henderson\n",
    "\n",
    "acknowledgements: Mechanism and rates from Seinfeld and Pandis (ISBN: 978-0-471-72018-8)"
   ]
  },
  {
   "cell_type": "markdown",
   "metadata": {},
   "source": [
    "# Overview\n",
    "\n",
    "This exercise uses a simple volatile organic compound, nitrogen oxide, and odd oxygen mechanism (VOC-NOx-Ox) to demonstrate the non-linearity of chemistry.\n",
    "\n",
    "Recommended Prerequisites:\n",
    "  - Basic python skills\n",
    "  - Recommended reading\n",
    "    - Chapter 6 of Seinfeld and Pandis (ISBN: 978-0-471-72018-8), or \n",
    "    - Chapter 12 of Jacob (ISBN: 978-0-0-691-00185-2)"
   ]
  },
  {
   "cell_type": "markdown",
   "metadata": {},
   "source": [
    "# Mechanism\n",
    "\n",
    "From [Seinfeld and Pandis Pg 240](https://books.google.com/books?id=YH2K9eWsZOcC&lpg=PT220&vq=RH%20PHOx&pg=PT220#v=onepage&f=false) we extract a basic chemical mechanism with 1 primary organic oxidation (R1). Under high NOx conditions, the primary organic oxidation produces 2 peroxy radical NO oxidations (R2,R3) to produce more radicals (i.e., HO2 or OH). The produced NO2 can photolyze (R4) to reproduce NO and an odd oxygen (O3P) that is assumed to instantaneously produce ozone. Under high-NOx conditions, the ozone can be lost by oxidizing NO (R5). Finally, radicals can be removed lost by producing nitric acid (R6) or peroxides (R7,R8). Lastly, we add an artificial source of HOx (here defined as HO2 + OH) (R9)."
   ]
  },
  {
   "cell_type": "code",
   "execution_count": 1,
   "metadata": {
    "collapsed": true
   },
   "outputs": [],
   "source": [
    "mechanism = \"\"\"\n",
    "#EQUATIONS\n",
    "{R1} RH + OH = RO2 + H2O : 26.3e-12;\n",
    "{R2} RO2 + NO = NO2 + RCHO + HO2 : 7.7e-12;\n",
    "{R3} HO2 + NO = NO2 + OH : 8.1e-12;\n",
    "{R4} NO2 = NO + O3 : jno2 ;\n",
    "{R5} O3 + NO = NO2 + O2 : 1.9e-14 ;\n",
    "{R6} OH + NO2 = HNO3 : kohno2 ; \n",
    "{R7} HO2 + HO2 = H2O2 + O2 : 2.9e-12 ;\n",
    "{R8} RO2 + HO2 = ROOH + O2 : 5.2e-12 ;\n",
    "{R9} EMISSION = OH : PHOx;\n",
    "\n",
    "\"\"\""
   ]
  },
  {
   "cell_type": "markdown",
   "metadata": {},
   "source": [
    "# Setting up the environment"
   ]
  },
  {
   "cell_type": "code",
   "execution_count": 2,
   "metadata": {
    "collapsed": true
   },
   "outputs": [],
   "source": [
    "setup = \"\"\"\n",
    "#INLINE PY_INIT\n",
    "t=TSTART=6*3600\n",
    "TEND=10*3600+TSTART\n",
    "P = 99600.\n",
    "TEMP = 298.15\n",
    "DT = 60.\n",
    "MONITOR_DT = 3600.\n",
    "StartDate = 'datetime(2010, 7, 14)'\n",
    "Latitude_Degrees = 40.\n",
    "Longitude_Degrees = 0.00E+00\n",
    "\n",
    "jno2 = .015;\n",
    "kohno2 = 1.1e-11;\n",
    "#ENDINLINE\n",
    "#MONITOR O3; RH; NO; NO2; OH; HO2;\n",
    "#INTEGRATOR odeint;\n",
    "\"\"\""
   ]
  },
  {
   "cell_type": "markdown",
   "metadata": {},
   "source": [
    "# Initial Conditions"
   ]
  },
  {
   "cell_type": "code",
   "execution_count": 3,
   "metadata": {
    "collapsed": true
   },
   "outputs": [],
   "source": [
    "init = \"\"\"\n",
    "#INITVALUES\n",
    "CFACTOR = P * Avogadro / R / TEMP * centi **3 * nano {ppb-to-molecules/cm3}\n",
    "ALL_SPEC=1e-32*CFACTOR;\n",
    "M=1e9\n",
    "TOTALNOx=10.\n",
    "RH = 200.\n",
    "O2=.21*M\n",
    "N2=.79*M\n",
    "H2O=0.01*M\n",
    "O3=30.\n",
    "NO = 0.1 * TOTALNOx\n",
    "NO2 = 0.9 * TOTALNOx\n",
    "PHOx = .1e-3 * CFACTOR\n",
    "{B = 210.; what to do about B?}\n",
    "\"\"\""
   ]
  },
  {
   "cell_type": "markdown",
   "metadata": {},
   "source": [
    "# Put it All Together"
   ]
  },
  {
   "cell_type": "code",
   "execution_count": 4,
   "metadata": {
    "collapsed": false
   },
   "outputs": [],
   "source": [
    "outfile = open('mymech.kpp', 'w')\n",
    "outfile.write(setup + '\\n' + mechanism + '\\n' + init)\n",
    "outfile.close()"
   ]
  },
  {
   "cell_type": "markdown",
   "metadata": {},
   "source": [
    "# Put it in a mech"
   ]
  },
  {
   "cell_type": "code",
   "execution_count": 5,
   "metadata": {
    "collapsed": false,
    "scrolled": true
   },
   "outputs": [
    {
     "name": "stdout",
     "output_type": "stream",
     "text": [
      "Species: 13 \n",
      "Reactions: 9\n"
     ]
    },
    {
     "name": "stderr",
     "output_type": "stream",
     "text": [
      "**PYKPP://anaconda/lib/python3.5/site-packages/pykpp-1.0rc0-py3.5.egg/pykpp/parse.py:251:UserWarning:\n",
      "  Ignoring EMISSION\n"
     ]
    }
   ],
   "source": [
    "#from pykpp.updaters import func_updater, Monitor\n",
    "import pykpp\n",
    "mech = pykpp.mech.Mech('mymech.kpp', incr = 3600)"
   ]
  },
  {
   "cell_type": "markdown",
   "metadata": {},
   "source": [
    "# Run it\n",
    "\n",
    "Run the basic mechanism and compare the result for ozone to the expected value ("
   ]
  },
  {
   "cell_type": "code",
   "execution_count": 6,
   "metadata": {
    "collapsed": false,
    "scrolled": true
   },
   "outputs": [
    {
     "name": "stdout",
     "output_type": "stream",
     "text": [
      "{t:21600,O3:30,RH:2E+02,NO:1,NO2:9,OH:1E-32,HO2:1E-32}\n",
      "{t:25244,O3:69,RH:1.8E+02,NO:2.9,NO2:6.8,OH:4E-05,HO2:0.0081}\n",
      "{t:28860,O3:99,RH:1.7E+02,NO:2.2,NO2:7.3,OH:3.6E-05,HO2:0.0086}\n",
      "{t:32471,O3:1.2E+02,RH:1.5E+02,NO:1.8,NO2:7.4,OH:3.4E-05,HO2:0.009}\n",
      "{t:36074,O3:1.5E+02,RH:1.4E+02,NO:1.6,NO2:7.4,OH:3.2E-05,HO2:0.0094}\n",
      "{t:39675,O3:1.7E+02,RH:1.3E+02,NO:1.4,NO2:7.4,OH:3.2E-05,HO2:0.0096}\n",
      "{t:43276,O3:1.8E+02,RH:1.2E+02,NO:1.2,NO2:7.3,OH:3.1E-05,HO2:0.0098}\n",
      "{t:46877,O3:2E+02,RH:1.1E+02,NO:1.1,NO2:7.2,OH:3.1E-05,HO2:0.01}\n",
      "{t:50479,O3:2.2E+02,RH:1.1E+02,NO:1,NO2:7.1,OH:3.1E-05,HO2:0.01}\n",
      "{t:54080,O3:2.3E+02,RH:1E+02,NO:0.95,NO2:7,OH:3.1E-05,HO2:0.01}\n",
      "242.698139913 ppb\n"
     ]
    }
   ],
   "source": [
    "mech.run();\n",
    "print(eval('O3/CFACTOR', None, mech.world), 'ppb')"
   ]
  },
  {
   "cell_type": "markdown",
   "metadata": {},
   "source": [
    "# Ozone Non-linear Chemistry\n",
    "\n",
    "* Well established that ozone can increase or decrease in response to emission controls.\n",
    "* This can be explored easily by rerunning the model\n",
    "* First initialize a range of NOx and VOC initial values\n",
    "* Then run the model iteratively"
   ]
  },
  {
   "cell_type": "code",
   "execution_count": 7,
   "metadata": {
    "collapsed": true
   },
   "outputs": [],
   "source": [
    "noxvals = [1, 2, 3, 4, 5, 6, 7, 8, 9, 10, 20, 30 , 40, 50]\n",
    "vocvals = [50, 60, 70, 80, 90, 100, 200, 300, 400, 500]"
   ]
  },
  {
   "cell_type": "markdown",
   "metadata": {},
   "source": [
    "# Run the model iteratively\n",
    "\n",
    "* re-open mechanism with less frequent output\n",
    "* for each nox and voc value, reset the mechanism and initialize with new values\n",
    "* Run the model and store the output in o3 values"
   ]
  },
  {
   "cell_type": "code",
   "execution_count": 8,
   "metadata": {
    "collapsed": false,
    "scrolled": true
   },
   "outputs": [
    {
     "name": "stderr",
     "output_type": "stream",
     "text": [
      "**PYKPP://anaconda/lib/python3.5/site-packages/pykpp-1.0rc0-py3.5.egg/pykpp/parse.py:251:UserWarning:\n",
      "  Ignoring EMISSION\n"
     ]
    },
    {
     "name": "stdout",
     "output_type": "stream",
     "text": [
      "Species: 13 \n",
      "Reactions: 9\n"
     ]
    }
   ],
   "source": [
    "mech = pykpp.mech.Mech('mymech.kpp', monitor_incr = None)\n",
    "import numpy as np\n",
    "o3vals = np.zeros((len(noxvals), len(vocvals)), dtype = 'f')\n",
    "for ni, n in enumerate(noxvals):\n",
    "    for vi, v in enumerate(vocvals):\n",
    "        mech.resetworld()\n",
    "        CFACTOR = mech.world['CFACTOR']\n",
    "        mech.world['NO'] = .1 * n * CFACTOR\n",
    "        mech.world['NO2'] = .9 * n * CFACTOR\n",
    "        mech.world['RH'] = v * CFACTOR\n",
    "        #print(eval('NO, RH', None, mech.world))\n",
    "        mech.run()\n",
    "        o3vals[ni, vi] = eval('O3 / CFACTOR', None, mech.world)"
   ]
  },
  {
   "cell_type": "markdown",
   "metadata": {},
   "source": [
    "# Make EKMA Diagram\n",
    "\n",
    "* plot results in an isopleth format\n",
    "* one simple plot\n",
    "* one prettier plot"
   ]
  },
  {
   "cell_type": "code",
   "execution_count": 9,
   "metadata": {
    "collapsed": false
   },
   "outputs": [
    {
     "name": "stdout",
     "output_type": "stream",
     "text": [
      "Populating the interactive namespace from numpy and matplotlib\n"
     ]
    }
   ],
   "source": [
    "%pylab inline"
   ]
  },
  {
   "cell_type": "markdown",
   "metadata": {},
   "source": [
    "# Simple EKMA\n",
    "\n",
    "* make a color filed contour plot\n",
    "* add a colorbar labeled ozone ppb"
   ]
  },
  {
   "cell_type": "code",
   "execution_count": 10,
   "metadata": {
    "collapsed": false
   },
   "outputs": [
    {
     "data": {
      "image/png": "[encoded data removed]",
      "text/plain": [
       "<matplotlib.figure.Figure at 0x1114430f0>"
      ]
     },
     "metadata": {},
     "output_type": "display_data"
    }
   ],
   "source": [
    "out = plt.contourf(vocvals, noxvals, o3vals);\n",
    "plt.colorbar(out, label = 'ozone ppb');"
   ]
  },
  {
   "cell_type": "markdown",
   "metadata": {},
   "source": [
    "# Prettier EKMA\n",
    "\n",
    "* We'll use the same format as in Seinfeld and Pandis\n",
    "* x and y axes will be log-scaled.\n",
    "* color bar will have pretty formula"
   ]
  },
  {
   "cell_type": "code",
   "execution_count": 11,
   "metadata": {
    "collapsed": false
   },
   "outputs": [
    {
     "data": {
      "image/png": "[encoded data removed]",
      "text/plain": [
       "<matplotlib.figure.Figure at 0x116f27e48>"
      ]
     },
     "metadata": {},
     "output_type": "display_data"
    }
   ],
   "source": [
    "plt.close()\n",
    "out = plt.contourf(vocvals, noxvals, plt.np.array(o3vals).reshape(len(noxvals), len(vocvals)), levels = range(60, 390, 30));\n",
    "out.ax.set_xscale('log', basex = 10, subsx = [2,3,5])\n",
    "out.ax.set_yscale('log', basex = 10, subsy = [2,3,5])\n",
    "out.ax.get_xaxis().set_major_formatter(plt.ScalarFormatter())\n",
    "out.ax.get_xaxis().set_minor_formatter(plt.ScalarFormatter())\n",
    "out.ax.get_yaxis().set_major_formatter(plt.ScalarFormatter())\n",
    "out.ax.get_yaxis().set_minor_formatter(plt.ScalarFormatter())\n",
    "plt.colorbar(out, label = 'O$_3$ ppb');"
   ]
  },
  {
   "cell_type": "code",
   "execution_count": null,
   "metadata": {
    "collapsed": true
   },
   "outputs": [],
   "source": []
  }
 ],
 "metadata": {
  "anaconda-cloud": {},
  "kernelspec": {
   "display_name": "Python 3",
   "language": "python",
   "name": "python3"
  },
  "language_info": {
   "codemirror_mode": {
    "name": "ipython",
    "version": 3
   },
   "file_extension": ".py",
   "mimetype": "text/x-python",
   "name": "python",
   "nbconvert_exporter": "python",
   "pygments_lexer": "ipython3",
   "version": "3.5.0rc4"
  }
 },
 "nbformat": 4,
 "nbformat_minor": 1
}
